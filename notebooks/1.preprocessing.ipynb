{
 "cells": [
  {
   "cell_type": "markdown",
   "metadata": {},
   "source": [
    "# 1. Подготовка обучающей выборки"
   ]
  },
  {
   "cell_type": "code",
   "execution_count": 1,
   "metadata": {},
   "outputs": [
    {
     "name": "stdout",
     "output_type": "stream",
     "text": [
      "INFO: Pandarallel will run on 14 workers.\n",
      "INFO: Pandarallel will use standard multiprocessing data transfer (pipe) to transfer data between the main process and workers.\n"
     ]
    },
    {
     "name": "stderr",
     "output_type": "stream",
     "text": [
      "/usr/lib/python3/dist-packages/requests/__init__.py:89: RequestsDependencyWarning: urllib3 (1.26.9) or chardet (3.0.4) doesn't match a supported version!\n",
      "  warnings.warn(\"urllib3 ({}) or chardet ({}) doesn't match a supported \"\n"
     ]
    }
   ],
   "source": [
    "import os\n",
    "import sys\n",
    "import pickle\n",
    "\n",
    "import pandas as pd\n",
    "import numpy as np\n",
    "from matplotlib import pyplot as plt\n",
    "\n",
    "from collections import Counter\n",
    "from tqdm import tqdm\n",
    "from pandarallel import pandarallel\n",
    "\n",
    "import pymorphy2\n",
    "import nltk\n",
    "from nltk.tokenize import word_tokenize, wordpunct_tokenize, sent_tokenize\n",
    "\n",
    "import seaborn as sns\n",
    "sns.set_style(\"whitegrid\")\n",
    "\n",
    "pd.set_option('display.max_colwidth', 255)\n",
    "tqdm.pandas()\n",
    "pandarallel.initialize(progress_bar=True, nb_workers=14, use_memory_fs=False)\n",
    "\n",
    "SEED = 1\n",
    "\n",
    "sys.path.append(\"..\")\n",
    "from src import *"
   ]
  },
  {
   "cell_type": "markdown",
   "metadata": {},
   "source": [
    "## 1. Загрузка данных "
   ]
  },
  {
   "cell_type": "code",
   "execution_count": 2,
   "metadata": {},
   "outputs": [
    {
     "name": "stderr",
     "output_type": "stream",
     "text": [
      "<ipython-input-2-c300cdb3f553>:2: DtypeWarning: Columns (3) have mixed types. Specify dtype option on import or set low_memory=False.\n",
      "  lenta = pd.read_csv(\"../input/lenta-ru-news.csv\")\n"
     ]
    }
   ],
   "source": [
    "abbr = pd.read_csv(\"../input/abbr_dict.csv\", sep=\"\\t\")\n",
    "lenta = pd.read_csv(\"../input/lenta-ru-news.csv\")"
   ]
  },
  {
   "cell_type": "markdown",
   "metadata": {},
   "source": [
    "## 2. Токенизация и лемматизация"
   ]
  },
  {
   "cell_type": "markdown",
   "metadata": {},
   "source": [
    "Произведём предобработку входных данных с помощью токенизации и лематизации.\n",
    "\n",
    "Для лематизации будем использовать только словарный анализатор для избежания искажения сокращений."
   ]
  },
  {
   "cell_type": "code",
   "execution_count": 11,
   "metadata": {},
   "outputs": [],
   "source": [
    "def tokenize(line):\n",
    "    return word_tokenize(line)\n",
    "\n",
    "morph = pymorphy2.MorphAnalyzer(lang=\"ru\", \n",
    "                                units=[pymorphy2.units.DictionaryAnalyzer()])\n",
    "def normalize(word):\n",
    "    word = str(word).lower()\n",
    "    parse_list = morph.parse(word)\n",
    "    if parse_list != []:\n",
    "        return parse_list[0].normal_form\n",
    "    else:\n",
    "        return word\n",
    "\n",
    "def get_tokenized_normal_form(line):\n",
    "    line = str(line)\n",
    "    new_line_arr = []\n",
    "    for token in tokenize(line):\n",
    "        new_line_arr.append(normalize(token))\n",
    "    return \" \".join(new_line_arr)"
   ]
  },
  {
   "cell_type": "code",
   "execution_count": 4,
   "metadata": {},
   "outputs": [
    {
     "data": {
      "application/vnd.jupyter.widget-view+json": {
       "model_id": "440f9328d25a4df1a793a49f1b0ee9a8",
       "version_major": 2,
       "version_minor": 0
      },
      "text/plain": [
       "VBox(children=(HBox(children=(IntProgress(value=0, description='0.00%', max=6110), Label(value='0 / 6110'))), …"
      ]
     },
     "metadata": {},
     "output_type": "display_data"
    }
   ],
   "source": [
    "abbr[\"desc_norm\"] = abbr[\"desc\"].parallel_apply(get_tokenized_normal_form)\n",
    "abbr[\"desc_len\"] = abbr[\"desc_norm\"].str.split(\" \").str.len()"
   ]
  },
  {
   "cell_type": "code",
   "execution_count": 5,
   "metadata": {},
   "outputs": [
    {
     "data": {
      "application/vnd.jupyter.widget-view+json": {
       "model_id": "9fab2c49aace441ea6d8da6bf5a7680e",
       "version_major": 2,
       "version_minor": 0
      },
      "text/plain": [
       "VBox(children=(HBox(children=(IntProgress(value=0, description='0.00%', max=6110), Label(value='0 / 6110'))), …"
      ]
     },
     "metadata": {},
     "output_type": "display_data"
    }
   ],
   "source": [
    "abbr[\"abbr_norm\"] = abbr[\"abbr\"].parallel_apply(get_tokenized_normal_form)\n",
    "abbr[\"abbr_len\"] = abbr[\"abbr_norm\"].str.split(\" \").str.len()"
   ]
  },
  {
   "cell_type": "code",
   "execution_count": 14,
   "metadata": {
    "scrolled": false
   },
   "outputs": [
    {
     "data": {
      "application/vnd.jupyter.widget-view+json": {
       "model_id": "f77433c031c946bcaeddf9a6be977d4d",
       "version_major": 2,
       "version_minor": 0
      },
      "text/plain": [
       "VBox(children=(HBox(children=(IntProgress(value=0, description='0.00%', max=57213), Label(value='0 / 57213')))…"
      ]
     },
     "metadata": {},
     "output_type": "display_data"
    },
    {
     "name": "stdout",
     "output_type": "stream",
     "text": [
      "CPU times: user 1min 5s, sys: 9.8 s, total: 1min 15s\n",
      "Wall time: 23min 1s\n"
     ]
    }
   ],
   "source": [
    "%%time\n",
    "lenta[\"text_norm\"] = lenta[\"text\"].parallel_apply(get_tokenized_normal_form)\n",
    "lenta[\"text_len\"] = lenta[\"text_norm\"].str.split(\" \").str.len()"
   ]
  },
  {
   "cell_type": "code",
   "execution_count": 17,
   "metadata": {},
   "outputs": [
    {
     "data": {
      "application/vnd.jupyter.widget-view+json": {
       "model_id": "818693b0fe634539bd39c09548108191",
       "version_major": 2,
       "version_minor": 0
      },
      "text/plain": [
       "VBox(children=(HBox(children=(IntProgress(value=0, description='0.00%', max=6110), Label(value='0 / 6110'))), …"
      ]
     },
     "metadata": {},
     "output_type": "display_data"
    },
    {
     "data": {
      "application/vnd.jupyter.widget-view+json": {
       "model_id": "1066814e13114feaa20e54327c3bafa0",
       "version_major": 2,
       "version_minor": 0
      },
      "text/plain": [
       "VBox(children=(HBox(children=(IntProgress(value=0, description='0.00%', max=6110), Label(value='0 / 6110'))), …"
      ]
     },
     "metadata": {},
     "output_type": "display_data"
    }
   ],
   "source": [
    "REDUCE_COEF = 0.1\n",
    "global_texts = (\n",
    "    \" \" + \n",
    "    \" \".join(lenta[\"text_norm\"].sample(int(lenta.shape[0] * REDUCE_COEF), \n",
    "                                       random_state=SEED)\n",
    "                               .to_list()) + \n",
    "    \" \"\n",
    ")\n",
    "\n",
    "abbr[\"abbr_count\"] = abbr[\"abbr_norm\"].parallel_apply(lambda x: global_texts.count(f\" {x} \"))\n",
    "abbr[\"desc_count\"] = abbr[\"desc_norm\"].parallel_apply(lambda x: global_texts.count(f\" {x} \"))"
   ]
  },
  {
   "cell_type": "code",
   "execution_count": 20,
   "metadata": {},
   "outputs": [
    {
     "data": {
      "text/html": [
       "<div>\n",
       "<style scoped>\n",
       "    .dataframe tbody tr th:only-of-type {\n",
       "        vertical-align: middle;\n",
       "    }\n",
       "\n",
       "    .dataframe tbody tr th {\n",
       "        vertical-align: top;\n",
       "    }\n",
       "\n",
       "    .dataframe thead th {\n",
       "        text-align: right;\n",
       "    }\n",
       "</style>\n",
       "<table border=\"1\" class=\"dataframe\">\n",
       "  <thead>\n",
       "    <tr style=\"text-align: right;\">\n",
       "      <th></th>\n",
       "      <th>abbr</th>\n",
       "      <th>desc</th>\n",
       "      <th>tags</th>\n",
       "      <th>desc_norm</th>\n",
       "      <th>desc_len</th>\n",
       "      <th>abbr_norm</th>\n",
       "      <th>abbr_len</th>\n",
       "      <th>abbr_count</th>\n",
       "      <th>desc_count</th>\n",
       "    </tr>\n",
       "  </thead>\n",
       "  <tbody>\n",
       "    <tr>\n",
       "      <th>12</th>\n",
       "      <td>СГД</td>\n",
       "      <td>Самарская губернская Дума</td>\n",
       "      <td>гос., Самарская обл.</td>\n",
       "      <td>самарский губернский дума</td>\n",
       "      <td>3</td>\n",
       "      <td>сгд</td>\n",
       "      <td>1</td>\n",
       "      <td>10</td>\n",
       "      <td>3</td>\n",
       "    </tr>\n",
       "    <tr>\n",
       "      <th>28</th>\n",
       "      <td>замгенпрокурора</td>\n",
       "      <td>заместитель генерального прокурора</td>\n",
       "      <td>None</td>\n",
       "      <td>заместитель генеральный прокурор</td>\n",
       "      <td>3</td>\n",
       "      <td>замгенпрокурора</td>\n",
       "      <td>1</td>\n",
       "      <td>44</td>\n",
       "      <td>65</td>\n",
       "    </tr>\n",
       "    <tr>\n",
       "      <th>43</th>\n",
       "      <td>РС</td>\n",
       "      <td>реактивный снаряд</td>\n",
       "      <td>None</td>\n",
       "      <td>реактивный снаряд</td>\n",
       "      <td>2</td>\n",
       "      <td>рс</td>\n",
       "      <td>1</td>\n",
       "      <td>4</td>\n",
       "      <td>29</td>\n",
       "    </tr>\n",
       "    <tr>\n",
       "      <th>49</th>\n",
       "      <td>КК</td>\n",
       "      <td>комиссии и комитеты</td>\n",
       "      <td>None</td>\n",
       "      <td>комиссия и комитет</td>\n",
       "      <td>3</td>\n",
       "      <td>кк</td>\n",
       "      <td>1</td>\n",
       "      <td>1</td>\n",
       "      <td>1</td>\n",
       "    </tr>\n",
       "    <tr>\n",
       "      <th>66</th>\n",
       "      <td>НИ</td>\n",
       "      <td>«Новые известия»</td>\n",
       "      <td>издание</td>\n",
       "      <td>« новый известие »</td>\n",
       "      <td>4</td>\n",
       "      <td>ни</td>\n",
       "      <td>1</td>\n",
       "      <td>5254</td>\n",
       "      <td>2</td>\n",
       "    </tr>\n",
       "    <tr>\n",
       "      <th>...</th>\n",
       "      <td>...</td>\n",
       "      <td>...</td>\n",
       "      <td>...</td>\n",
       "      <td>...</td>\n",
       "      <td>...</td>\n",
       "      <td>...</td>\n",
       "      <td>...</td>\n",
       "      <td>...</td>\n",
       "      <td>...</td>\n",
       "    </tr>\n",
       "    <tr>\n",
       "      <th>85502</th>\n",
       "      <td>гост.</td>\n",
       "      <td>гостиница</td>\n",
       "      <td>None</td>\n",
       "      <td>гостиница</td>\n",
       "      <td>1</td>\n",
       "      <td>гост .</td>\n",
       "      <td>2</td>\n",
       "      <td>11</td>\n",
       "      <td>1228</td>\n",
       "    </tr>\n",
       "    <tr>\n",
       "      <th>85507</th>\n",
       "      <td>ПК</td>\n",
       "      <td>пластиковая карточка</td>\n",
       "      <td>None</td>\n",
       "      <td>пластиковый карточка</td>\n",
       "      <td>2</td>\n",
       "      <td>пк</td>\n",
       "      <td>1</td>\n",
       "      <td>86</td>\n",
       "      <td>1</td>\n",
       "    </tr>\n",
       "    <tr>\n",
       "      <th>85509</th>\n",
       "      <td>А</td>\n",
       "      <td>аэрозоль</td>\n",
       "      <td>None</td>\n",
       "      <td>аэрозоль</td>\n",
       "      <td>1</td>\n",
       "      <td>а</td>\n",
       "      <td>1</td>\n",
       "      <td>49131</td>\n",
       "      <td>31</td>\n",
       "    </tr>\n",
       "    <tr>\n",
       "      <th>85512</th>\n",
       "      <td>АА</td>\n",
       "      <td>армейская авиация</td>\n",
       "      <td></td>\n",
       "      <td>армейский авиация</td>\n",
       "      <td>2</td>\n",
       "      <td>аа</td>\n",
       "      <td>1</td>\n",
       "      <td>6</td>\n",
       "      <td>31</td>\n",
       "    </tr>\n",
       "    <tr>\n",
       "      <th>85534</th>\n",
       "      <td>сх.</td>\n",
       "      <td>схема</td>\n",
       "      <td>None</td>\n",
       "      <td>схема</td>\n",
       "      <td>1</td>\n",
       "      <td>сх .</td>\n",
       "      <td>2</td>\n",
       "      <td>1</td>\n",
       "      <td>992</td>\n",
       "    </tr>\n",
       "  </tbody>\n",
       "</table>\n",
       "<p>7796 rows × 9 columns</p>\n",
       "</div>"
      ],
      "text/plain": [
       "                  abbr                                desc  \\\n",
       "12                 СГД           Самарская губернская Дума   \n",
       "28     замгенпрокурора  заместитель генерального прокурора   \n",
       "43                  РС                   реактивный снаряд   \n",
       "49                  КК                 комиссии и комитеты   \n",
       "66                  НИ                    «Новые известия»   \n",
       "...                ...                                 ...   \n",
       "85502            гост.                           гостиница   \n",
       "85507               ПК                пластиковая карточка   \n",
       "85509                А                            аэрозоль   \n",
       "85512               АА                   армейская авиация   \n",
       "85534              сх.                               схема   \n",
       "\n",
       "                       tags                         desc_norm  desc_len  \\\n",
       "12     гос., Самарская обл.         самарский губернский дума         3   \n",
       "28                     None  заместитель генеральный прокурор         3   \n",
       "43                     None                 реактивный снаряд         2   \n",
       "49                     None                комиссия и комитет         3   \n",
       "66                  издание                « новый известие »         4   \n",
       "...                     ...                               ...       ...   \n",
       "85502                  None                         гостиница         1   \n",
       "85507                  None              пластиковый карточка         2   \n",
       "85509                  None                          аэрозоль         1   \n",
       "85512                                       армейский авиация         2   \n",
       "85534                  None                             схема         1   \n",
       "\n",
       "             abbr_norm  abbr_len  abbr_count  desc_count  \n",
       "12                 сгд         1          10           3  \n",
       "28     замгенпрокурора         1          44          65  \n",
       "43                  рс         1           4          29  \n",
       "49                  кк         1           1           1  \n",
       "66                  ни         1        5254           2  \n",
       "...                ...       ...         ...         ...  \n",
       "85502           гост .         2          11        1228  \n",
       "85507               пк         1          86           1  \n",
       "85509                а         1       49131          31  \n",
       "85512               аа         1           6          31  \n",
       "85534             сх .         2           1         992  \n",
       "\n",
       "[7796 rows x 9 columns]"
      ]
     },
     "execution_count": 20,
     "metadata": {},
     "output_type": "execute_result"
    }
   ],
   "source": [
    "abbr[(abbr.desc_count != 0) & (abbr.abbr_count != 0)]"
   ]
  },
  {
   "cell_type": "markdown",
   "metadata": {},
   "source": [
    "## 3. Ограничение размеров "
   ]
  },
  {
   "cell_type": "markdown",
   "metadata": {},
   "source": [
    "### Тексты "
   ]
  },
  {
   "cell_type": "code",
   "execution_count": 21,
   "metadata": {},
   "outputs": [
    {
     "data": {
      "image/png": "[encoded data removed]",
      "text/plain": [
       "<Figure size 504x504 with 1 Axes>"
      ]
     },
     "metadata": {},
     "output_type": "display_data"
    }
   ],
   "source": [
    "plt.figure(figsize=(7, 7))\n",
    "lenta.text_len.hist(bins=1000)\n",
    "plt.xlim(0, 512)\n",
    "plt.title(\"Гистограмма длины текстов\")\n",
    "plt.xlabel(\"слов\")\n",
    "plt.show()"
   ]
  },
  {
   "cell_type": "code",
   "execution_count": 25,
   "metadata": {},
   "outputs": [
    {
     "name": "stdout",
     "output_type": "stream",
     "text": [
      "0.6295627204344705\n"
     ]
    }
   ],
   "source": [
    "TEXT_LEN_MIN = 128\n",
    "TEXT_LEN_MAX = 256\n",
    "\n",
    "lenta_filt = lenta[lenta.text_len.between(TEXT_LEN_MIN, TEXT_LEN_MAX)]\n",
    "\n",
    "print(lenta_filt.shape[0] / lenta.shape[0])"
   ]
  },
  {
   "cell_type": "markdown",
   "metadata": {},
   "source": [
    "### Сокращения "
   ]
  },
  {
   "cell_type": "code",
   "execution_count": 26,
   "metadata": {},
   "outputs": [
    {
     "data": {
      "image/png": "[encoded data removed]",
      "text/plain": [
       "<Figure size 1008x504 with 2 Axes>"
      ]
     },
     "metadata": {},
     "output_type": "display_data"
    }
   ],
   "source": [
    "plt.figure(figsize=(14, 7))\n",
    "\n",
    "plt.subplot(1, 2, 1)\n",
    "abbr.abbr_len.hist(bins=7)\n",
    "plt.title(\"Гистограмма длины сокращений\")\n",
    "plt.xlabel(\"слов\")\n",
    "\n",
    "plt.subplot(1, 2, 2)\n",
    "abbr[\"abbr_norm\"].str.len().hist(bins=30)\n",
    "plt.xlim(0, 20)\n",
    "plt.title(\"Гистограмма длины сокращений\")\n",
    "plt.xlabel(\"символов\")\n",
    "plt.show()"
   ]
  },
  {
   "cell_type": "code",
   "execution_count": 27,
   "metadata": {},
   "outputs": [
    {
     "data": {
      "image/png": "[encoded data removed]",
      "text/plain": [
       "<Figure size 504x504 with 1 Axes>"
      ]
     },
     "metadata": {},
     "output_type": "display_data"
    }
   ],
   "source": [
    "plt.figure(figsize=(7, 7))\n",
    "abbr.desc_len.hist(bins=50)\n",
    "plt.xlim(0, 15)\n",
    "plt.title(\"Гистограмма длины определений\")\n",
    "plt.xlabel(\"слов\")\n",
    "plt.show()"
   ]
  },
  {
   "cell_type": "code",
   "execution_count": 48,
   "metadata": {},
   "outputs": [
    {
     "data": {
      "image/png": "[encoded data removed]",
      "text/plain": [
       "<Figure size 1008x504 with 2 Axes>"
      ]
     },
     "metadata": {},
     "output_type": "display_data"
    }
   ],
   "source": [
    "plt.figure(figsize=(14, 7))\n",
    "\n",
    "plt.subplot(1, 2, 1)\n",
    "abbr[abbr[\"abbr_count\"].between(10, 100)][\"abbr_count\"].hist(bins=90)\n",
    "plt.xlim(10, 100)\n",
    "plt.title(\"Гистограмма количества употреблений сокращения в текстах\")\n",
    "plt.xlabel(\"слов\")\n",
    "\n",
    "plt.subplot(1, 2, 2)\n",
    "abbr[abbr[\"desc_count\"].between(10, 100)][\"desc_count\"].hist(bins=90)\n",
    "plt.xlim(10, 100)\n",
    "plt.title(\"Гистограмма количества употреблений определения в текстах\")\n",
    "plt.xlabel(\"слов\")\n",
    "plt.show()"
   ]
  },
  {
   "cell_type": "code",
   "execution_count": 50,
   "metadata": {},
   "outputs": [
    {
     "name": "stdout",
     "output_type": "stream",
     "text": [
      "Abbr len filter 0.8990121003098147\n",
      "Desc len filter 0.9000526100426726\n",
      "Abbr char len filter 0.9931490033319693\n",
      "Abbr detection filter 0.8226573917109955\n",
      "Abbr count filter 0.2843514350850529\n",
      "Desc count filter 0.06342432922195593\n",
      "ALL filter 0.013690302215467352\n"
     ]
    },
    {
     "data": {
      "text/html": [
       "<div>\n",
       "<style scoped>\n",
       "    .dataframe tbody tr th:only-of-type {\n",
       "        vertical-align: middle;\n",
       "    }\n",
       "\n",
       "    .dataframe tbody tr th {\n",
       "        vertical-align: top;\n",
       "    }\n",
       "\n",
       "    .dataframe thead th {\n",
       "        text-align: right;\n",
       "    }\n",
       "</style>\n",
       "<table border=\"1\" class=\"dataframe\">\n",
       "  <thead>\n",
       "    <tr style=\"text-align: right;\">\n",
       "      <th></th>\n",
       "      <th>abbr</th>\n",
       "      <th>desc</th>\n",
       "      <th>tags</th>\n",
       "      <th>desc_norm</th>\n",
       "      <th>desc_len</th>\n",
       "      <th>abbr_norm</th>\n",
       "      <th>abbr_len</th>\n",
       "      <th>abbr_count</th>\n",
       "      <th>desc_count</th>\n",
       "    </tr>\n",
       "  </thead>\n",
       "  <tbody>\n",
       "    <tr>\n",
       "      <th>28</th>\n",
       "      <td>замгенпрокурора</td>\n",
       "      <td>заместитель генерального прокурора</td>\n",
       "      <td>None</td>\n",
       "      <td>заместитель генеральный прокурор</td>\n",
       "      <td>3</td>\n",
       "      <td>замгенпрокурора</td>\n",
       "      <td>1</td>\n",
       "      <td>44</td>\n",
       "      <td>65</td>\n",
       "    </tr>\n",
       "    <tr>\n",
       "      <th>43</th>\n",
       "      <td>РС</td>\n",
       "      <td>реактивный снаряд</td>\n",
       "      <td>None</td>\n",
       "      <td>реактивный снаряд</td>\n",
       "      <td>2</td>\n",
       "      <td>рс</td>\n",
       "      <td>1</td>\n",
       "      <td>4</td>\n",
       "      <td>29</td>\n",
       "    </tr>\n",
       "    <tr>\n",
       "      <th>169</th>\n",
       "      <td>ДМЗ</td>\n",
       "      <td>демилитаризованная зона</td>\n",
       "      <td>КНДР</td>\n",
       "      <td>демилитаризовать зона</td>\n",
       "      <td>2</td>\n",
       "      <td>дмз</td>\n",
       "      <td>1</td>\n",
       "      <td>1</td>\n",
       "      <td>34</td>\n",
       "    </tr>\n",
       "    <tr>\n",
       "      <th>207</th>\n",
       "      <td>МФО</td>\n",
       "      <td>международная финансовая организация</td>\n",
       "      <td>организация, фин.</td>\n",
       "      <td>международный финансовый организация</td>\n",
       "      <td>3</td>\n",
       "      <td>мфо</td>\n",
       "      <td>1</td>\n",
       "      <td>85</td>\n",
       "      <td>21</td>\n",
       "    </tr>\n",
       "    <tr>\n",
       "      <th>209</th>\n",
       "      <td>РЖД</td>\n",
       "      <td>«Российские железные дороги»</td>\n",
       "      <td>ж.-д., организация, РФ</td>\n",
       "      <td>« российский железный дорога »</td>\n",
       "      <td>5</td>\n",
       "      <td>ржд</td>\n",
       "      <td>1</td>\n",
       "      <td>627</td>\n",
       "      <td>24</td>\n",
       "    </tr>\n",
       "    <tr>\n",
       "      <th>...</th>\n",
       "      <td>...</td>\n",
       "      <td>...</td>\n",
       "      <td>...</td>\n",
       "      <td>...</td>\n",
       "      <td>...</td>\n",
       "      <td>...</td>\n",
       "      <td>...</td>\n",
       "      <td>...</td>\n",
       "      <td>...</td>\n",
       "    </tr>\n",
       "    <tr>\n",
       "      <th>85322</th>\n",
       "      <td>ПВН</td>\n",
       "      <td>продукция военного назначения</td>\n",
       "      <td></td>\n",
       "      <td>продукция военный назначение</td>\n",
       "      <td>3</td>\n",
       "      <td>пвн</td>\n",
       "      <td>1</td>\n",
       "      <td>2</td>\n",
       "      <td>26</td>\n",
       "    </tr>\n",
       "    <tr>\n",
       "      <th>85350</th>\n",
       "      <td>СС</td>\n",
       "      <td>специальная служба</td>\n",
       "      <td>None</td>\n",
       "      <td>специальный служба</td>\n",
       "      <td>2</td>\n",
       "      <td>сс</td>\n",
       "      <td>1</td>\n",
       "      <td>86</td>\n",
       "      <td>21</td>\n",
       "    </tr>\n",
       "    <tr>\n",
       "      <th>85352</th>\n",
       "      <td>ТД</td>\n",
       "      <td>торговый дом</td>\n",
       "      <td>None</td>\n",
       "      <td>торговый дом</td>\n",
       "      <td>2</td>\n",
       "      <td>тд</td>\n",
       "      <td>1</td>\n",
       "      <td>10</td>\n",
       "      <td>43</td>\n",
       "    </tr>\n",
       "    <tr>\n",
       "      <th>85422</th>\n",
       "      <td>АК</td>\n",
       "      <td>авиационный комплекс</td>\n",
       "      <td>авиа</td>\n",
       "      <td>авиационный комплекс</td>\n",
       "      <td>2</td>\n",
       "      <td>ак</td>\n",
       "      <td>1</td>\n",
       "      <td>273</td>\n",
       "      <td>27</td>\n",
       "    </tr>\n",
       "    <tr>\n",
       "      <th>85457</th>\n",
       "      <td>НАО</td>\n",
       "      <td>Ненецкий автономный округ</td>\n",
       "      <td>Ненецкий АО</td>\n",
       "      <td>ненецкий автономный округ</td>\n",
       "      <td>3</td>\n",
       "      <td>нао</td>\n",
       "      <td>1</td>\n",
       "      <td>19</td>\n",
       "      <td>58</td>\n",
       "    </tr>\n",
       "  </tbody>\n",
       "</table>\n",
       "<p>1171 rows × 9 columns</p>\n",
       "</div>"
      ],
      "text/plain": [
       "                  abbr                                  desc  \\\n",
       "28     замгенпрокурора    заместитель генерального прокурора   \n",
       "43                  РС                     реактивный снаряд   \n",
       "169                ДМЗ               демилитаризованная зона   \n",
       "207                МФО  международная финансовая организация   \n",
       "209                РЖД          «Российские железные дороги»   \n",
       "...                ...                                   ...   \n",
       "85322              ПВН         продукция военного назначения   \n",
       "85350               СС                    специальная служба   \n",
       "85352               ТД                          торговый дом   \n",
       "85422               АК                  авиационный комплекс   \n",
       "85457              НАО             Ненецкий автономный округ   \n",
       "\n",
       "                         tags                             desc_norm  desc_len  \\\n",
       "28                       None      заместитель генеральный прокурор         3   \n",
       "43                       None                     реактивный снаряд         2   \n",
       "169                      КНДР                 демилитаризовать зона         2   \n",
       "207         организация, фин.  международный финансовый организация         3   \n",
       "209    ж.-д., организация, РФ        « российский железный дорога »         5   \n",
       "...                       ...                                   ...       ...   \n",
       "85322                                  продукция военный назначение         3   \n",
       "85350                    None                    специальный служба         2   \n",
       "85352                    None                          торговый дом         2   \n",
       "85422                    авиа                  авиационный комплекс         2   \n",
       "85457             Ненецкий АО             ненецкий автономный округ         3   \n",
       "\n",
       "             abbr_norm  abbr_len  abbr_count  desc_count  \n",
       "28     замгенпрокурора         1          44          65  \n",
       "43                  рс         1           4          29  \n",
       "169                дмз         1           1          34  \n",
       "207                мфо         1          85          21  \n",
       "209                ржд         1         627          24  \n",
       "...                ...       ...         ...         ...  \n",
       "85322              пвн         1           2          26  \n",
       "85350               сс         1          86          21  \n",
       "85352               тд         1          10          43  \n",
       "85422               ак         1         273          27  \n",
       "85457              нао         1          19          58  \n",
       "\n",
       "[1171 rows x 9 columns]"
      ]
     },
     "execution_count": 50,
     "metadata": {},
     "output_type": "execute_result"
    }
   ],
   "source": [
    "ABBR_LEN_MAX = 1\n",
    "print(\"Abbr len filter\", (abbr[\"abbr_len\"] <= ABBR_LEN_MAX).sum() / abbr.shape[0])\n",
    "\n",
    "DESC_LEN_MAX = 6\n",
    "print(\"Desc len filter\", (abbr[\"desc_len\"] <= DESC_LEN_MAX).sum() / abbr.shape[0])\n",
    "\n",
    "ABBR_CHAR_LEN_MIN = 2\n",
    "print(\"Abbr char len filter\", (abbr[\"abbr_norm\"].str.len() >= ABBR_CHAR_LEN_MIN).sum() / abbr.shape[0])\n",
    "\n",
    "abbr_detection = AbbrDetection()\n",
    "print(\"Abbr detection filter\", abbr[\"abbr_norm\"].apply(abbr_detection.word_is_abbr).sum() / abbr.shape[0])\n",
    "\n",
    "ABBR_MIN_COUNT_IN_TEXTS = 1\n",
    "print(\"Abbr count filter\", (abbr[\"abbr_count\"] >= ABBR_MIN_COUNT_IN_TEXTS).sum() / abbr.shape[0])\n",
    "\n",
    "DESC_MIN_COUNT_IN_TEXTS = 20\n",
    "print(\"Desc count filter\", (abbr[\"desc_count\"] >= DESC_MIN_COUNT_IN_TEXTS).sum() / abbr.shape[0])\n",
    "\n",
    "abbr_filt = abbr[(abbr[\"abbr_len\"] <= ABBR_LEN_MAX) & \n",
    "                 (abbr[\"desc_len\"] <= DESC_LEN_MAX) &\n",
    "                 (abbr[\"abbr_norm\"].str.len() >= ABBR_CHAR_LEN_MIN) &\n",
    "                 (abbr[\"abbr_norm\"].apply(abbr_detection.word_is_abbr)) &\n",
    "                 (abbr[\"abbr_count\"] >= ABBR_MIN_COUNT_IN_TEXTS) &\n",
    "                 (abbr[\"desc_count\"] >= DESC_MIN_COUNT_IN_TEXTS)]\n",
    "print(\"ALL filter\", abbr_filt.shape[0] / abbr.shape[0])\n",
    "abbr_filt"
   ]
  },
  {
   "cell_type": "markdown",
   "metadata": {},
   "source": [
    "## 4. Сохранение "
   ]
  },
  {
   "cell_type": "code",
   "execution_count": 52,
   "metadata": {},
   "outputs": [
    {
     "name": "stderr",
     "output_type": "stream",
     "text": [
      "<ipython-input-52-d2bb80bd2f05>:1: SettingWithCopyWarning: \n",
      "A value is trying to be set on a copy of a slice from a DataFrame\n",
      "\n",
      "See the caveats in the documentation: https://pandas.pydata.org/pandas-docs/stable/user_guide/indexing.html#returning-a-view-versus-a-copy\n",
      "  abbr_filt.drop([\"tags\"], axis=1, inplace=True)\n",
      "<ipython-input-52-d2bb80bd2f05>:2: SettingWithCopyWarning: \n",
      "A value is trying to be set on a copy of a slice from a DataFrame\n",
      "\n",
      "See the caveats in the documentation: https://pandas.pydata.org/pandas-docs/stable/user_guide/indexing.html#returning-a-view-versus-a-copy\n",
      "  abbr_filt.drop_duplicates([\"desc_norm\", \"abbr_norm\"], inplace=True)\n",
      "<ipython-input-52-d2bb80bd2f05>:3: SettingWithCopyWarning: \n",
      "A value is trying to be set on a copy of a slice from a DataFrame.\n",
      "Try using .loc[row_indexer,col_indexer] = value instead\n",
      "\n",
      "See the caveats in the documentation: https://pandas.pydata.org/pandas-docs/stable/user_guide/indexing.html#returning-a-view-versus-a-copy\n",
      "  abbr_filt[\"abbr_id\"] = np.arange(abbr_filt.shape[0])\n"
     ]
    }
   ],
   "source": [
    "abbr_filt.drop([\"tags\"], axis=1, inplace=True)\n",
    "abbr_filt.drop_duplicates([\"desc_norm\", \"abbr_norm\"], inplace=True)\n",
    "abbr_filt[\"abbr_id\"] = np.arange(abbr_filt.shape[0])\n",
    "\n",
    "abbr_filt.to_csv(\"../data/abbr.csv\", index=False, header=True)"
   ]
  },
  {
   "cell_type": "code",
   "execution_count": 53,
   "metadata": {
    "scrolled": true
   },
   "outputs": [
    {
     "name": "stderr",
     "output_type": "stream",
     "text": [
      "<ipython-input-53-fa5b7426f9ce>:1: SettingWithCopyWarning: \n",
      "A value is trying to be set on a copy of a slice from a DataFrame\n",
      "\n",
      "See the caveats in the documentation: https://pandas.pydata.org/pandas-docs/stable/user_guide/indexing.html#returning-a-view-versus-a-copy\n",
      "  lenta_filt.drop([\"url\", \"title\", \"date\"], axis=1, inplace=True)\n"
     ]
    }
   ],
   "source": [
    "lenta_filt.drop([\"url\", \"title\", \"date\"], axis=1, inplace=True)\n",
    "\n",
    "lenta_filt.to_csv(\"../data/lenta.csv\", index=False, header=True)"
   ]
  }
 ],
 "metadata": {
  "kernelspec": {
   "display_name": "Python 3",
   "language": "python",
   "name": "python3"
  },
  "language_info": {
   "codemirror_mode": {
    "name": "ipython",
    "version": 3
   },
   "file_extension": ".py",
   "mimetype": "text/x-python",
   "name": "python",
   "nbconvert_exporter": "python",
   "pygments_lexer": "ipython3",
   "version": "3.8.10"
  }
 },
 "nbformat": 4,
 "nbformat_minor": 4
}
