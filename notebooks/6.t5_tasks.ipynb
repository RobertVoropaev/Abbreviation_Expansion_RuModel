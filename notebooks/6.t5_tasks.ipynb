{
 "cells": [
  {
   "cell_type": "code",
   "execution_count": 1,
   "metadata": {},
   "outputs": [
    {
     "name": "stdout",
     "output_type": "stream",
     "text": [
      "INFO: Pandarallel will run on 14 workers.\n",
      "INFO: Pandarallel will use standard multiprocessing data transfer (pipe) to transfer data between the main process and workers.\n"
     ]
    }
   ],
   "source": [
    "import os\n",
    "import sys\n",
    "import random\n",
    "import itertools\n",
    "import pickle\n",
    "import json\n",
    "\n",
    "import pandas as pd\n",
    "import numpy as np\n",
    "from matplotlib import pyplot as plt\n",
    "from tqdm import tqdm\n",
    "from pandarallel import pandarallel\n",
    "\n",
    "import pymorphy2\n",
    "import nltk\n",
    "from nltk.tokenize import word_tokenize, wordpunct_tokenize, sent_tokenize\n",
    "\n",
    "from sklearn.model_selection import train_test_split\n",
    "from sklearn.metrics import accuracy_score, classification_report, confusion_matrix, f1_score\n",
    "\n",
    "import torch\n",
    "import torch.nn as nn\n",
    "import torch.nn.functional as F\n",
    "import torch.optim as optim\n",
    "from torch.utils.data import TensorDataset, DataLoader\n",
    "\n",
    "from keras.preprocessing.sequence import pad_sequences\n",
    "\n",
    "from transformers import T5Model, T5Tokenizer, T5ForConditionalGeneration\n",
    "\n",
    "sys.path.append(\"..\")\n",
    "from src import *\n",
    "\n",
    "def init_random_seed(value=0):\n",
    "    random.seed(value)\n",
    "    np.random.seed(value)\n",
    "    torch.manual_seed(value)\n",
    "    torch.cuda.manual_seed(value)\n",
    "    torch.backends.cudnn.deterministic = True\n",
    "init_random_seed()\n",
    "    \n",
    "pd.set_option('display.max_colwidth', 255)\n",
    "tqdm.pandas()\n",
    "pandarallel.initialize(progress_bar=True, nb_workers=14, use_memory_fs=False)\n",
    "\n",
    "%load_ext autoreload\n",
    "%autoreload 2"
   ]
  },
  {
   "cell_type": "code",
   "execution_count": 2,
   "metadata": {},
   "outputs": [],
   "source": [
    "abbr = pd.read_csv(\"../data/abbr.csv\")\n",
    "lenta_train = pd.read_csv(\"../data/lenta_train_t5.csv\")\n",
    "lenta_test = pd.read_csv(\"../data/lenta_test_t5.csv\")"
   ]
  },
  {
   "cell_type": "code",
   "execution_count": 3,
   "metadata": {},
   "outputs": [],
   "source": [
    "train_texts = list(map(lambda x: x.split(\" \"), lenta_train[\"text_upd\"].to_list()))\n",
    "train_labels = list(map(lambda x: x.split(\" \"), lenta_train[\"labels_upd\"].to_list()))\n",
    "\n",
    "test_texts = list(map(lambda x: x.split(\" \"), lenta_test[\"text_upd\"].to_list()))\n",
    "test_labels = list(map(lambda x: x.split(\" \"), lenta_test[\"labels_upd\"].to_list()))"
   ]
  },
  {
   "cell_type": "code",
   "execution_count": 4,
   "metadata": {},
   "outputs": [],
   "source": [
    "def get_sentences(text, labels):\n",
    "    sentences = sent_tokenize(\" \".join(text), language=\"russian\")\n",
    "    sent_labels = []\n",
    "    \n",
    "    i = 0\n",
    "    for sent in sentences:\n",
    "        sent = sent.split(\" \")\n",
    "        sent_labels.append(\" \".join(labels[i:i+len(sent)]))\n",
    "        i += len(sent)\n",
    "    return sentences, sent_labels"
   ]
  },
  {
   "cell_type": "code",
   "execution_count": 5,
   "metadata": {},
   "outputs": [
    {
     "name": "stderr",
     "output_type": "stream",
     "text": [
      "403411it [00:43, 9229.81it/s]\n"
     ]
    }
   ],
   "source": [
    "sentences = []\n",
    "sentences_labels = []\n",
    "for text, labels in tqdm(zip(train_texts, train_labels)):\n",
    "    sent, sent_labels = get_sentences(text, labels)\n",
    "    sentences.extend(sent)\n",
    "    sentences_labels.extend(sent_labels)"
   ]
  },
  {
   "cell_type": "code",
   "execution_count": 16,
   "metadata": {},
   "outputs": [],
   "source": [
    "def get_fill_tasks(sent, labels):\n",
    "    tasks = []\n",
    "    labels = labels.split(\" \")\n",
    "    for i in range(len(labels)):\n",
    "        if labels[i] != \"_\":\n",
    "            sent_list = sent.split(\" \")\n",
    "            desc = labels[i]\n",
    "            abbr_norm = sent_list[i]\n",
    "            sent_list[i] = \"<extra_id_1>\"\n",
    "            task = f\"fill {abbr_norm} | {' '.join(sent_list)}\"\n",
    "            tasks.append((task, desc))\n",
    "    return tasks"
   ]
  },
  {
   "cell_type": "code",
   "execution_count": 17,
   "metadata": {},
   "outputs": [
    {
     "name": "stderr",
     "output_type": "stream",
     "text": [
      "4083077it [00:03, 1220538.24it/s]\n"
     ]
    }
   ],
   "source": [
    "fill_tasks = []\n",
    "for sent_i, labels_i in tqdm(zip(sentences, sentences_labels)):\n",
    "    fill_tasks.extend(get_fill_tasks(sent_i, labels_i))"
   ]
  },
  {
   "cell_type": "code",
   "execution_count": 18,
   "metadata": {},
   "outputs": [
    {
     "data": {
      "text/plain": [
       "(\"fill сд | Также , по словам Фадеева , до конца недели правительство утвердит состав <extra_id_1> ОАО `` РЖД '' , после чего будет проведено первое заседание Совета директоров .\",\n",
       " 'Совета=директоров')"
      ]
     },
     "execution_count": 18,
     "metadata": {},
     "output_type": "execute_result"
    }
   ],
   "source": [
    "fill_tasks[2320]"
   ]
  },
  {
   "cell_type": "code",
   "execution_count": 19,
   "metadata": {},
   "outputs": [],
   "source": [
    "with open(\"../data/fill_tasks_t5.pickle\", \"wb\") as f:\n",
    "    pickle.dump(fill_tasks, f)"
   ]
  },
  {
   "cell_type": "markdown",
   "metadata": {},
   "source": [
    "## Тестовая выборка "
   ]
  },
  {
   "cell_type": "code",
   "execution_count": 20,
   "metadata": {},
   "outputs": [
    {
     "name": "stderr",
     "output_type": "stream",
     "text": [
      "100853it [00:10, 9230.60it/s]\n"
     ]
    }
   ],
   "source": [
    "sentences = []\n",
    "sentences_labels = []\n",
    "for text, labels in tqdm(zip(test_texts, test_labels)):\n",
    "    sent, sent_labels = get_sentences(text, labels)\n",
    "    sentences.extend(sent)\n",
    "    sentences_labels.extend(sent_labels)"
   ]
  },
  {
   "cell_type": "code",
   "execution_count": 21,
   "metadata": {},
   "outputs": [
    {
     "name": "stderr",
     "output_type": "stream",
     "text": [
      "1021377it [00:00, 1166569.94it/s]\n"
     ]
    }
   ],
   "source": [
    "fill_tasks = []\n",
    "for sent_i, labels_i in tqdm(zip(sentences, sentences_labels)):\n",
    "    fill_tasks.extend(get_fill_tasks(sent_i, labels_i))"
   ]
  },
  {
   "cell_type": "code",
   "execution_count": 22,
   "metadata": {},
   "outputs": [
    {
     "data": {
      "text/plain": [
       "('fill инфа | Ранее 5 марта в СМИ появилась <extra_id_1> о том , что Медведева выразила желание выступать за другую страну .',\n",
       " 'информация')"
      ]
     },
     "execution_count": 22,
     "metadata": {},
     "output_type": "execute_result"
    }
   ],
   "source": [
    "fill_tasks[2320]"
   ]
  },
  {
   "cell_type": "code",
   "execution_count": 23,
   "metadata": {},
   "outputs": [],
   "source": [
    "with open(\"../data/fill_tasks_t5_test.pickle\", \"wb\") as f:\n",
    "    pickle.dump(fill_tasks, f)"
   ]
  }
 ],
 "metadata": {
  "kernelspec": {
   "display_name": "Python 3",
   "language": "python",
   "name": "python3"
  },
  "language_info": {
   "codemirror_mode": {
    "name": "ipython",
    "version": 3
   },
   "file_extension": ".py",
   "mimetype": "text/x-python",
   "name": "python",
   "nbconvert_exporter": "python",
   "pygments_lexer": "ipython3",
   "version": "3.8.10"
  }
 },
 "nbformat": 4,
 "nbformat_minor": 4
}
